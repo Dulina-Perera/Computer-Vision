{
  "cells": [
    {
      "cell_type": "markdown",
      "metadata": {
        "id": "dCIN9wTcNSET"
      },
      "source": [
        "# Pytorch Fundamentals"
      ]
    },
    {
      "cell_type": "code",
      "execution_count": 1,
      "metadata": {
        "colab": {
          "base_uri": "https://localhost:8080/"
        },
        "id": "ABx2YHYnMy1b",
        "outputId": "c546359b-73b1-45fe-b4ec-28083b73069a"
      },
      "outputs": [
        {
          "name": "stdout",
          "output_type": "stream",
          "text": [
            "Tue May 21 17:30:29 2024       \n",
            "+---------------------------------------------------------------------------------------+\n",
            "| NVIDIA-SMI 535.104.05             Driver Version: 535.104.05   CUDA Version: 12.2     |\n",
            "|-----------------------------------------+----------------------+----------------------+\n",
            "| GPU  Name                 Persistence-M | Bus-Id        Disp.A | Volatile Uncorr. ECC |\n",
            "| Fan  Temp   Perf          Pwr:Usage/Cap |         Memory-Usage | GPU-Util  Compute M. |\n",
            "|                                         |                      |               MIG M. |\n",
            "|=========================================+======================+======================|\n",
            "|   0  Tesla T4                       Off | 00000000:00:04.0 Off |                    0 |\n",
            "| N/A   64C    P8              14W /  70W |      0MiB / 15360MiB |      0%      Default |\n",
            "|                                         |                      |                  N/A |\n",
            "+-----------------------------------------+----------------------+----------------------+\n",
            "                                                                                         \n",
            "+---------------------------------------------------------------------------------------+\n",
            "| Processes:                                                                            |\n",
            "|  GPU   GI   CI        PID   Type   Process name                            GPU Memory |\n",
            "|        ID   ID                                                             Usage      |\n",
            "|=======================================================================================|\n",
            "|  No running processes found                                                           |\n",
            "+---------------------------------------------------------------------------------------+\n"
          ]
        }
      ],
      "source": [
        "!nvidia-smi"
      ]
    },
    {
      "cell_type": "code",
      "execution_count": 1,
      "metadata": {
        "colab": {
          "base_uri": "https://localhost:8080/"
        },
        "id": "jAiD7gYMNRU4",
        "outputId": "fd88ec9b-bbe2-4319-d405-880c6a02290f"
      },
      "outputs": [
        {
          "name": "stdout",
          "output_type": "stream",
          "text": [
            "2.3.0+cu121\n"
          ]
        }
      ],
      "source": [
        "import matplotlib.pyplot as plt\n",
        "import numpy as np\n",
        "import pandas as pd  # type: ignore\n",
        "import torch\n",
        "\n",
        "from IPython.display import display\n",
        "\n",
        "print(torch.__version__)"
      ]
    },
    {
      "cell_type": "markdown",
      "metadata": {
        "id": "xC1LE4z5OvnE"
      },
      "source": [
        "## Introduction to Tensor\n",
        "\n",
        "### Creating Tensors"
      ]
    },
    {
      "cell_type": "code",
      "execution_count": 7,
      "metadata": {
        "colab": {
          "base_uri": "https://localhost:8080/"
        },
        "id": "KIGlDtqyOn4B",
        "outputId": "9ee1940b-1d9a-405e-eb50-4d8bc3762019"
      },
      "outputs": [
        {
          "name": "stdout",
          "output_type": "stream",
          "text": [
            "tensor(9)\n",
            "0\n",
            "9\n"
          ]
        }
      ],
      "source": [
        "# Scalar\n",
        "scalar: torch.Tensor = torch.tensor(9)\n",
        "print(scalar, scalar.ndim, scalar.item(), sep=\"\\n\")"
      ]
    },
    {
      "cell_type": "code",
      "execution_count": 11,
      "metadata": {
        "colab": {
          "base_uri": "https://localhost:8080/"
        },
        "id": "t7esheVwQnIt",
        "outputId": "31190cc9-05c6-433d-c028-18f3fd1d7bd5"
      },
      "outputs": [
        {
          "name": "stdout",
          "output_type": "stream",
          "text": [
            "tensor([ 9., -9.])\n",
            "1\n",
            "torch.Size([2])\n"
          ]
        }
      ],
      "source": [
        "# Vector\n",
        "vector: torch.Tensor = torch.Tensor([9, -9])\n",
        "print(vector, vector.ndim, vector.shape, sep=\"\\n\")"
      ]
    },
    {
      "cell_type": "code",
      "execution_count": 18,
      "metadata": {
        "colab": {
          "base_uri": "https://localhost:8080/"
        },
        "id": "VhdBknr0RUxP",
        "outputId": "ef58531c-91b2-4282-a1ef-dac007733f64"
      },
      "outputs": [
        {
          "name": "stdout",
          "output_type": "stream",
          "text": [
            "tensor([[1., 2., 3.],\n",
            "        [4., 5., 6.]])\n",
            "2\n",
            "torch.Size([2, 3])\n",
            "tensor([1., 2., 3.])\n"
          ]
        }
      ],
      "source": [
        "# MATRIX\n",
        "matrix: torch.Tensor = torch.Tensor([[1, 2, 3], [4, 5, 6]])\n",
        "print(matrix, matrix.ndim, matrix.shape, matrix[0], sep=\"\\n\")"
      ]
    },
    {
      "cell_type": "code",
      "execution_count": 27,
      "metadata": {
        "colab": {
          "base_uri": "https://localhost:8080/"
        },
        "id": "QpO0E-XLTAJj",
        "outputId": "c4785e1a-084d-4b8e-8365-231303c5c5d9"
      },
      "outputs": [
        {
          "name": "stdout",
          "output_type": "stream",
          "text": [
            "tensor([[[1.+0.j, 2.+0.j, 3.+0.j],\n",
            "         [4.+0.j, 5.+0.j, 6.+0.j],\n",
            "         [7.+0.j, 8.+0.j, 9.+0.j]]])\n",
            "3\n",
            "torch.Size([1, 3, 3])\n",
            "tensor([[1.+0.j, 2.+0.j, 3.+0.j],\n",
            "        [4.+0.j, 5.+0.j, 6.+0.j],\n",
            "        [7.+0.j, 8.+0.j, 9.+0.j]])\n",
            "tensor([1.+0.j, 2.+0.j, 3.+0.j])\n",
            "tensor(1.+0.j)\n"
          ]
        }
      ],
      "source": [
        "# TENSOR\n",
        "tensor: torch.Tensor = torch.tensor(\n",
        "    [[[1, 2, 3], [4, 5, 6], [7, 8, 9]]], dtype=torch.complex64\n",
        ")\n",
        "print(\n",
        "    tensor,\n",
        "    tensor.ndim,\n",
        "    tensor.shape,\n",
        "    tensor[0],\n",
        "    tensor[0][0],\n",
        "    tensor[0][0][0],\n",
        "    sep=\"\\n\",\n",
        ")"
      ]
    }
  ],
  "metadata": {
    "colab": {
      "gpuType": "T4",
      "provenance": []
    },
    "kernelspec": {
      "display_name": "Python 3",
      "name": "python3"
    },
    "language_info": {
      "codemirror_mode": {
        "name": "ipython",
        "version": 3
      },
      "file_extension": ".py",
      "mimetype": "text/x-python",
      "name": "python",
      "nbconvert_exporter": "python",
      "pygments_lexer": "ipython3",
      "version": "3.8.18"
    }
  },
  "nbformat": 4,
  "nbformat_minor": 0
}
