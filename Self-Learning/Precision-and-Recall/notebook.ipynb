{
 "cells": [
  {
   "cell_type": "code",
   "execution_count": 57,
   "metadata": {},
   "outputs": [],
   "source": [
    "import matplotlib.pyplot as plt\n",
    "import numpy as np\n",
    "import pandas as pd\n",
    "\n",
    "from matplotlib.axes import Axes\n",
    "from matplotlib.colors import Colormap\n",
    "from matplotlib.image import AxesImage\n",
    "from matplotlib.figure import Figure\n",
    "from sklearn.discriminant_analysis import unique_labels\n",
    "from sklearn.metrics import classification_report, confusion_matrix"
   ]
  },
  {
   "cell_type": "code",
   "execution_count": 50,
   "metadata": {},
   "outputs": [],
   "source": [
    "def plot_confusion_matrix(\n",
    "    y_true, y_pred, classes, normalize: str = None, cmap: Colormap = plt.cm.Blues\n",
    ") -> Axes:\n",
    "    cm: np.ndarray = confusion_matrix(\n",
    "        y_true, y_pred, labels=classes, normalize=normalize\n",
    "    )\n",
    "\n",
    "    ax: Axes\n",
    "    fig: Figure\n",
    "    fig, ax = plt.subplots()\n",
    "\n",
    "    im: AxesImage = ax.imshow(cm, interpolation=\"nearest\", cmap=cmap)\n",
    "\n",
    "    ax.figure.colorbar(im, ax=ax)\n",
    "\n",
    "    ax.set(\n",
    "        xticks=np.arange(cm.shape[1]),\n",
    "        yticks=np.arange(cm.shape[0]),\n",
    "        xticklabels=classes,\n",
    "        yticklabels=classes,\n",
    "        title=\"Confusion matrix\",\n",
    "        ylabel=\"True label\",\n",
    "        xlabel=\"Predicted label\",\n",
    "    )\n",
    "\n",
    "    fmt: str = \".4f\" if normalize else \"d\"\n",
    "    thresh: float = cm.max() / 2.0\n",
    "    for i in range(cm.shape[0]):\n",
    "        for j in range(cm.shape[1]):\n",
    "            ax.text(\n",
    "                j,\n",
    "                i,\n",
    "                format(cm[i, j], fmt),\n",
    "                ha=\"center\",\n",
    "                va=\"center\",\n",
    "                color=\"white\" if cm[i, j] > thresh else \"black\",\n",
    "            )\n",
    "\n",
    "    fig.tight_layout()\n",
    "    return ax"
   ]
  },
  {
   "cell_type": "code",
   "execution_count": 47,
   "metadata": {},
   "outputs": [
    {
     "name": "stdout",
     "output_type": "stream",
     "text": [
      "(2, 3)\n"
     ]
    }
   ],
   "source": [
    "arr = np.array([[1, 2, 3], [4, 5, 6]])\n",
    "print(arr.shape)"
   ]
  },
  {
   "cell_type": "code",
   "execution_count": 4,
   "metadata": {},
   "outputs": [],
   "source": [
    "truth = [\n",
    "    \"Dog\",\n",
    "    \"Not a Dog\",\n",
    "    \"Dog\",\n",
    "    \"Dog\",\n",
    "    \"Dog\",\n",
    "    \"Not a Dog\",\n",
    "    \"Not a Dog\",\n",
    "    \"Dog\",\n",
    "    \"Dog\",\n",
    "    \"Not a Dog\",\n",
    "]\n",
    "pred = [\n",
    "    \"Dog\",\n",
    "    \"Dog\",\n",
    "    \"Dog\",\n",
    "    \"Not a Dog\",\n",
    "    \"Dog\",\n",
    "    \"Not a Dog\",\n",
    "    \"Dog\",\n",
    "    \"Not a Dog\",\n",
    "    \"Dog\",\n",
    "    \"Dog\",\n",
    "]"
   ]
  },
  {
   "cell_type": "code",
   "execution_count": 52,
   "metadata": {},
   "outputs": [
    {
     "name": "stdout",
     "output_type": "stream",
     "text": [
      "              precision    recall  f1-score   support\n",
      "\n",
      "         Dog       0.57      0.67      0.62         6\n",
      "   Not a Dog       0.33      0.25      0.29         4\n",
      "\n",
      "    accuracy                           0.50        10\n",
      "   macro avg       0.45      0.46      0.45        10\n",
      "weighted avg       0.48      0.50      0.48        10\n",
      "\n"
     ]
    },
    {
     "data": {
      "image/png": "[encoded data removed]",
      "text/plain": [
       "<Figure size 640x480 with 2 Axes>"
      ]
     },
     "metadata": {},
     "output_type": "display_data"
    }
   ],
   "source": [
    "plot_confusion_matrix(\n",
    "    truth, pred, classes=np.array([\"Dog\", \"Not a Dog\"]), normalize=\"pred\"\n",
    ")"
   ]
  },
  {
   "cell_type": "code",
   "execution_count": 62,
   "metadata": {},
   "outputs": [
    {
     "name": "stdout",
     "output_type": "stream",
     "text": [
      "              precision    recall  f1-score   support\n",
      "\n",
      "         Dog     0.5714    0.6667    0.6154         6\n",
      "   Not a Dog     0.3333    0.2500    0.2857         4\n",
      "\n",
      "    accuracy                         0.5000        10\n",
      "   macro avg     0.4524    0.4583    0.4505        10\n",
      "weighted avg     0.4762    0.5000    0.4835        10\n",
      "\n"
     ]
    }
   ],
   "source": [
    "print(classification_report(truth, pred, target_names=[\"Dog\", \"Not a Dog\"], digits=4))"
   ]
  }
 ],
 "metadata": {
  "kernelspec": {
   "display_name": "computer-vision",
   "language": "python",
   "name": "python3"
  },
  "language_info": {
   "codemirror_mode": {
    "name": "ipython",
    "version": 3
   },
   "file_extension": ".py",
   "mimetype": "text/x-python",
   "name": "python",
   "nbconvert_exporter": "python",
   "pygments_lexer": "ipython3",
   "version": "3.8.18"
  }
 },
 "nbformat": 4,
 "nbformat_minor": 2
}
