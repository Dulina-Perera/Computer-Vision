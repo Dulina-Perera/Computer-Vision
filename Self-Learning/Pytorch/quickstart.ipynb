{
 "cells": [
  {
   "cell_type": "markdown",
   "metadata": {},
   "source": [
    "# Quickstart\n",
    "\n",
    "This section runs through the API for common tasks in machine learning.\n",
    "Refer to the links in each section to dive deeper.\n",
    "\n",
    "## Working with data\n",
    "\n",
    "PyTorch has two [primitives to work with\n",
    "data](https://pytorch.org/docs/stable/data.html):\n",
    "`torch.utils.data.DataLoader` and `torch.utils.data.Dataset`. `Dataset`\n",
    "stores the samples and their corresponding labels, and `DataLoader`\n",
    "wraps an iterable around the `Dataset`.\n"
   ]
  },
  {
   "cell_type": "code",
   "execution_count": 33,
   "metadata": {
    "collapsed": false
   },
   "outputs": [],
   "source": [
    "import gc\n",
    "import numpy as np  # type: ignore\n",
    "import random\n",
    "import torch  # type: ignore\n",
    "\n",
    "from IPython.display import display\n",
    "from PIL import Image  # type: ignore\n",
    "from torch import nn, Tensor  # type: ignore\n",
    "from torch.nn import CrossEntropyLoss  # type: ignore\n",
    "from torch.nn.modules.loss import _Loss  # type: ignore\n",
    "from torch.optim import SGD  # type: ignore\n",
    "from torch.optim.optimizer import Optimizer  # type: ignore\n",
    "from torch.utils.data import DataLoader  # type: ignore\n",
    "from torchvision import datasets  # type: ignore\n",
    "from torchvision.datasets import FashionMNIST  # type: ignore\n",
    "from torchvision.transforms import ToTensor  # type: ignore\n",
    "from typing import List"
   ]
  },
  {
   "cell_type": "markdown",
   "metadata": {},
   "source": [
    "PyTorch offers domain-specific libraries such as\n",
    "[TorchText](https://pytorch.org/text/stable/index.html),\n",
    "[TorchVision](https://pytorch.org/vision/stable/index.html), and\n",
    "[TorchAudio](https://pytorch.org/audio/stable/index.html), all of which\n",
    "include datasets. For this tutorial, we will be using a TorchVision\n",
    "dataset.\n",
    "\n",
    "The `torchvision.datasets` module contains `Dataset` objects for many\n",
    "real-world vision data like **CIFAR**, **COCO** ([full list\n",
    "here](https://pytorch.org/vision/stable/datasets.html)). In this\n",
    "tutorial, we use the FashionMNIST dataset. Every TorchVision `Dataset`\n",
    "includes two arguments: `transform` and `target_transform` to modify the\n",
    "samples and labels respectively.\n"
   ]
  },
  {
   "cell_type": "code",
   "execution_count": 4,
   "metadata": {
    "collapsed": false
   },
   "outputs": [],
   "source": [
    "train_data: FashionMNIST = FashionMNIST(\n",
    "    root=\"data\", train=True, download=True, transform=ToTensor()\n",
    ")\n",
    "\n",
    "test_data: FashionMNIST = FashionMNIST(\n",
    "    root=\"data\", train=True, download=False, transform=ToTensor()\n",
    ")"
   ]
  },
  {
   "cell_type": "code",
   "execution_count": 5,
   "metadata": {},
   "outputs": [
    {
     "data": {
      "image/jpeg": "[encoded data removed]",
      "image/png": "[encoded data removed]",
      "text/plain": [
       "<PIL.Image.Image image mode=L size=28x28>"
      ]
     },
     "metadata": {},
     "output_type": "display_data"
    },
    {
     "data": {
      "image/jpeg": "[encoded data removed]",
      "image/png": "[encoded data removed]",
      "text/plain": [
       "<PIL.Image.Image image mode=L size=28x28>"
      ]
     },
     "metadata": {},
     "output_type": "display_data"
    },
    {
     "data": {
      "image/jpeg": "[encoded data removed]",
      "image/png": "[encoded data removed]",
      "text/plain": [
       "<PIL.Image.Image image mode=L size=28x28>"
      ]
     },
     "metadata": {},
     "output_type": "display_data"
    },
    {
     "data": {
      "image/jpeg": "[encoded data removed]",
      "image/png": "[encoded data removed]",
      "text/plain": [
       "<PIL.Image.Image image mode=L size=28x28>"
      ]
     },
     "metadata": {},
     "output_type": "display_data"
    },
    {
     "data": {
      "image/jpeg": "[encoded data removed]",
      "image/png": "[encoded data removed]",
      "text/plain": [
       "<PIL.Image.Image image mode=L size=28x28>"
      ]
     },
     "metadata": {},
     "output_type": "display_data"
    }
   ],
   "source": [
    "def display_img_with_idx(idx: int) -> None:\n",
    "    img: Tensor = train_data.__getitem__(idx)[0]\n",
    "\n",
    "    if img.is_cuda:\n",
    "        img = img.cpu()\n",
    "\n",
    "    img_arr: np.ndarray = img.numpy().transpose(1, 2, 0)\n",
    "    if img_arr.max() <= 1:  # normalize\n",
    "        img_arr = (img_arr * 255).astype(np.uint8)\n",
    "    if img_arr.shape[2] == 1:  # grayscale\n",
    "        img_arr = img_arr.squeeze(axis=2)\n",
    "\n",
    "    img_pil: Image = Image.fromarray(img_arr)\n",
    "    display(img_pil)\n",
    "\n",
    "\n",
    "for _ in range(5):\n",
    "    display_img_with_idx(_)"
   ]
  },
  {
   "cell_type": "markdown",
   "metadata": {},
   "source": [
    "We pass the `Dataset` as an argument to `DataLoader`. This wraps an\n",
    "iterable over our dataset, and supports **automatic batching**, **sampling**,\n",
    "**shuffling** and **multiprocess data loading**. Here we define a batch size of\n",
    "64, i.e. each element in the dataloader iterable will return a batch of\n",
    "64 features and labels.\n"
   ]
  },
  {
   "cell_type": "code",
   "execution_count": 6,
   "metadata": {
    "collapsed": false
   },
   "outputs": [
    {
     "name": "stdout",
     "output_type": "stream",
     "text": [
      "Shape of X [N, C, H, W]: torch.Size([64, 1, 28, 28])\n",
      "Shape of y: torch.Size([64])\n"
     ]
    }
   ],
   "source": [
    "batch_size: int = 64\n",
    "\n",
    "train_dataloader: DataLoader = DataLoader(train_data, batch_size=batch_size)\n",
    "test_dataloader: DataLoader = DataLoader(test_data, batch_size=batch_size)\n",
    "\n",
    "for X, y in test_dataloader:\n",
    "    print(f\"Shape of X [N, C, H, W]: {X.shape}\")\n",
    "    print(f\"Shape of y: {y.shape}\")\n",
    "    break"
   ]
  },
  {
   "cell_type": "markdown",
   "metadata": {},
   "source": [
    "Read more about [loading data in PyTorch](data_tutorial.html).\n"
   ]
  },
  {
   "cell_type": "markdown",
   "metadata": {},
   "source": [
    "---\n"
   ]
  },
  {
   "cell_type": "markdown",
   "metadata": {},
   "source": [
    "# Creating Models\n",
    "\n",
    "To define a neural network in PyTorch, we create a class that inherits\n",
    "from\n",
    "[nn.Module](https://pytorch.org/docs/stable/generated/torch.nn.Module.html).\n",
    "We define the layers of the network in the `__init__` function and\n",
    "specify how data will pass through the network in the `forward`\n",
    "function. To accelerate operations in the neural network, we move it to\n",
    "the GPU or MPS if available.\n"
   ]
  },
  {
   "cell_type": "code",
   "execution_count": 7,
   "metadata": {
    "collapsed": false
   },
   "outputs": [
    {
     "name": "stdout",
     "output_type": "stream",
     "text": [
      "Using cuda device\n",
      "NeuralNetwork(\n",
      "  (flatten): Flatten(start_dim=1, end_dim=-1)\n",
      "  (linear_relu_stack): Sequential(\n",
      "    (0): Linear(in_features=784, out_features=512, bias=True)\n",
      "    (1): ReLU()\n",
      "    (2): Linear(in_features=512, out_features=512, bias=True)\n",
      "    (3): ReLU()\n",
      "    (4): Linear(in_features=512, out_features=10, bias=True)\n",
      "  )\n",
      ")\n"
     ]
    }
   ],
   "source": [
    "device: str = (\n",
    "    \"cuda\"\n",
    "    if torch.cuda.is_available()\n",
    "    else \"mps\" if torch.backends.mps.is_available() else \"cpu\"\n",
    ")\n",
    "print(f\"Using {device} device\")\n",
    "\n",
    "\n",
    "class NeuralNetwork(nn.Module):\n",
    "    def __init__(self) -> None:\n",
    "        super().__init__()\n",
    "        self.flatten: nn.Flatten = nn.Flatten(start_dim=1, end_dim=-1)\n",
    "        self.linear_relu_stack: nn.Sequential = nn.Sequential(\n",
    "            nn.Linear(\n",
    "                in_features=28 * 28,\n",
    "                out_features=512,\n",
    "                bias=True,\n",
    "                device=device,\n",
    "                dtype=torch.float32,\n",
    "            ),\n",
    "            nn.ReLU(inplace=False),\n",
    "            nn.Linear(\n",
    "                in_features=512,\n",
    "                out_features=512,\n",
    "                bias=True,\n",
    "                device=device,\n",
    "                dtype=torch.float32,\n",
    "            ),\n",
    "            nn.ReLU(inplace=False),\n",
    "            nn.Linear(\n",
    "                in_features=512,\n",
    "                out_features=10,\n",
    "                bias=True,\n",
    "                device=device,\n",
    "                dtype=torch.float32,\n",
    "            ),\n",
    "        )\n",
    "\n",
    "    def forward(self, x: Tensor) -> Tensor:\n",
    "        x = self.flatten(x)\n",
    "        logits: Tensor = self.linear_relu_stack(x)\n",
    "        return logits\n",
    "\n",
    "\n",
    "model: NeuralNetwork = NeuralNetwork().to(device)\n",
    "print(model)"
   ]
  },
  {
   "cell_type": "markdown",
   "metadata": {},
   "source": [
    "Read more about [building neural networks in\n",
    "PyTorch](buildmodel_tutorial.html).\n"
   ]
  },
  {
   "cell_type": "markdown",
   "metadata": {},
   "source": [
    "---\n"
   ]
  },
  {
   "cell_type": "markdown",
   "metadata": {},
   "source": [
    "# Optimizing the Model Parameters\n",
    "\n",
    "To train a model, we need a [loss\n",
    "function](https://pytorch.org/docs/stable/nn.html#loss-functions) and an\n",
    "[optimizer](https://pytorch.org/docs/stable/optim.html).\n"
   ]
  },
  {
   "cell_type": "code",
   "execution_count": 8,
   "metadata": {
    "collapsed": false
   },
   "outputs": [],
   "source": [
    "loss_fn: CrossEntropyLoss = CrossEntropyLoss()\n",
    "optimizer: SGD = SGD(model.parameters(), lr=1e-3)"
   ]
  },
  {
   "cell_type": "markdown",
   "metadata": {},
   "source": [
    "In a single training loop, the model makes predictions on the training\n",
    "dataset (fed to it in batches), and backpropagates the prediction error\n",
    "to adjust the model\\'s parameters.\n"
   ]
  },
  {
   "cell_type": "code",
   "execution_count": 16,
   "metadata": {
    "collapsed": false
   },
   "outputs": [],
   "source": [
    "def train(\n",
    "    dataloader: DataLoader, model: nn.Module, loss_fn: _Loss, optimizer: Optimizer\n",
    ") -> None:\n",
    "    size: int = len(dataloader.dataset)\n",
    "\n",
    "    model.train()\n",
    "    for batch, (X, y) in enumerate(dataloader):\n",
    "        X: Tensor\n",
    "        y: Tensor\n",
    "        X, y = X.to(device), y.to(device)\n",
    "\n",
    "        pred: Tensor = model(X)\n",
    "        loss: Tensor = loss_fn(pred, y)\n",
    "\n",
    "        loss.backward()\n",
    "        optimizer.step()\n",
    "        optimizer.zero_grad()\n",
    "\n",
    "        if batch % 100 == 0:\n",
    "            current: int = (batch + 1) * len(X)\n",
    "            loss: float = loss.item()\n",
    "            print(f\"loss: {loss:>7f}  [{current:>5d}/{size:>5d}]\")"
   ]
  },
  {
   "cell_type": "markdown",
   "metadata": {},
   "source": [
    "We also check the model\\'s performance against the test dataset to\n",
    "ensure it is learning.\n"
   ]
  },
  {
   "cell_type": "code",
   "execution_count": 19,
   "metadata": {
    "collapsed": false
   },
   "outputs": [],
   "source": [
    "def test(dataloader: DataLoader, model: nn.Module, loss_fn: _Loss) -> None:\n",
    "    size: int = len(dataloader.dataset)\n",
    "    num_batches: int = len(dataloader)\n",
    "\n",
    "    model.eval()\n",
    "    test_loss: float = 0.0\n",
    "    correct: float = 0.0\n",
    "    with torch.no_grad():\n",
    "        for X, y in dataloader:\n",
    "            X: Tensor\n",
    "            y: Tensor\n",
    "            X, y = X.to(device), y.to(device)\n",
    "\n",
    "            pred: Tensor = model(X)\n",
    "            test_loss += loss_fn(pred, y).item()\n",
    "            correct += (pred.argmax(1) == y).type(torch.float).sum().item()\n",
    "    test_loss /= num_batches\n",
    "    correct /= size\n",
    "    print(\n",
    "        f\"Test Error: \\n\\tAccuracy: {(100 * correct):>4f}% \\n\\tAvg loss: {test_loss:>8f} \\n\"\n",
    "    )"
   ]
  },
  {
   "cell_type": "markdown",
   "metadata": {},
   "source": [
    "The training process is conducted over several iterations (_epochs_).\n",
    "During each epoch, the model learns parameters to make better\n",
    "predictions. We print the model\\'s accuracy and loss at each epoch;\n",
    "we\\'d like to see the accuracy increase and the loss decrease with every\n",
    "epoch.\n"
   ]
  },
  {
   "cell_type": "code",
   "execution_count": 20,
   "metadata": {
    "collapsed": false
   },
   "outputs": [
    {
     "name": "stdout",
     "output_type": "stream",
     "text": [
      "Epoch 1 \n",
      "----------------------------------------------------------------------------------------------------\n",
      "loss: 2.092669  [   64/60000]\n",
      "loss: 2.079964  [ 6464/60000]\n",
      "loss: 2.001020  [12864/60000]\n",
      "loss: 2.019057  [19264/60000]\n",
      "loss: 1.943412  [25664/60000]\n",
      "loss: 1.887611  [32064/60000]\n",
      "loss: 1.901937  [38464/60000]\n",
      "loss: 1.819665  [44864/60000]\n",
      "loss: 1.833333  [51264/60000]\n",
      "loss: 1.736687  [57664/60000]\n",
      "Test Error: \n",
      "\tAccuracy: 52.646667% \n",
      "\tAvg loss: 1.740782 \n",
      "\n",
      "Epoch 2 \n",
      "----------------------------------------------------------------------------------------------------\n",
      "loss: 1.796459  [   64/60000]\n",
      "loss: 1.762834  [ 6464/60000]\n",
      "loss: 1.632664  [12864/60000]\n",
      "loss: 1.673879  [19264/60000]\n",
      "loss: 1.556913  [25664/60000]\n",
      "loss: 1.535893  [32064/60000]\n",
      "loss: 1.538823  [38464/60000]\n",
      "loss: 1.462873  [44864/60000]\n",
      "loss: 1.495417  [51264/60000]\n",
      "loss: 1.385324  [57664/60000]\n",
      "Test Error: \n",
      "\tAccuracy: 60.370000% \n",
      "\tAvg loss: 1.404069 \n",
      "\n",
      "Epoch 3 \n",
      "----------------------------------------------------------------------------------------------------\n",
      "loss: 1.487298  [   64/60000]\n",
      "loss: 1.462373  [ 6464/60000]\n",
      "loss: 1.311497  [12864/60000]\n",
      "loss: 1.383322  [19264/60000]\n",
      "loss: 1.263825  [25664/60000]\n",
      "loss: 1.280546  [32064/60000]\n",
      "loss: 1.283680  [38464/60000]\n",
      "loss: 1.225876  [44864/60000]\n",
      "loss: 1.262325  [51264/60000]\n",
      "loss: 1.170187  [57664/60000]\n",
      "Test Error: \n",
      "\tAccuracy: 63.320000% \n",
      "\tAvg loss: 1.184317 \n",
      "\n",
      "Epoch 4 \n",
      "----------------------------------------------------------------------------------------------------\n",
      "loss: 1.269480  [   64/60000]\n",
      "loss: 1.263013  [ 6464/60000]\n",
      "loss: 1.096942  [12864/60000]\n",
      "loss: 1.203718  [19264/60000]\n",
      "loss: 1.076726  [25664/60000]\n",
      "loss: 1.112526  [32064/60000]\n",
      "loss: 1.128306  [38464/60000]\n",
      "loss: 1.077530  [44864/60000]\n",
      "loss: 1.115569  [51264/60000]\n",
      "loss: 1.040109  [57664/60000]\n",
      "Test Error: \n",
      "\tAccuracy: 65.430000% \n",
      "\tAvg loss: 1.045154 \n",
      "\n",
      "Epoch 5 \n",
      "----------------------------------------------------------------------------------------------------\n",
      "loss: 1.123351  [   64/60000]\n",
      "loss: 1.135366  [ 6464/60000]\n",
      "loss: 0.953579  [12864/60000]\n",
      "loss: 1.088474  [19264/60000]\n",
      "loss: 0.958907  [25664/60000]\n",
      "loss: 0.996877  [32064/60000]\n",
      "loss: 1.029798  [38464/60000]\n",
      "loss: 0.981953  [44864/60000]\n",
      "loss: 1.016490  [51264/60000]\n",
      "loss: 0.955384  [57664/60000]\n",
      "Test Error: \n",
      "\tAccuracy: 67.141667% \n",
      "\tAvg loss: 0.952509 \n",
      "\n",
      "Done!\n"
     ]
    }
   ],
   "source": [
    "epochs: int = 10\n",
    "for _ in range(epochs):\n",
    "    print(f\"Epoch {_ + 1} \\n{'-' * 100}\")\n",
    "\n",
    "    train(train_dataloader, model, loss_fn, optimizer)\n",
    "    test(test_dataloader, model, loss_fn)\n",
    "\n",
    "print(\"Done!\")"
   ]
  },
  {
   "cell_type": "markdown",
   "metadata": {},
   "source": [
    "Read more about [Training your model](optimization_tutorial.html).\n"
   ]
  },
  {
   "cell_type": "markdown",
   "metadata": {},
   "source": [
    "---\n"
   ]
  },
  {
   "cell_type": "markdown",
   "metadata": {},
   "source": [
    "# Saving Models\n",
    "\n",
    "A common way to save a model is to serialize the internal state\n",
    "dictionary (containing the model parameters).\n"
   ]
  },
  {
   "cell_type": "code",
   "execution_count": 22,
   "metadata": {
    "collapsed": false
   },
   "outputs": [
    {
     "name": "stdout",
     "output_type": "stream",
     "text": [
      "Saved PyTorch Model State to `model.pth`.\n"
     ]
    },
    {
     "data": {
      "text/plain": [
       "3634"
      ]
     },
     "execution_count": 22,
     "metadata": {},
     "output_type": "execute_result"
    }
   ],
   "source": [
    "torch.save(model.state_dict(), \"model.pth\")\n",
    "print(\"Saved PyTorch Model State to `model.pth`.\")\n",
    "\n",
    "del model\n",
    "gc.collect()"
   ]
  },
  {
   "cell_type": "markdown",
   "metadata": {},
   "source": [
    "# Loading Models\n",
    "\n",
    "The process for loading a model includes re-creating the model structure\n",
    "and loading the state dictionary into it.\n"
   ]
  },
  {
   "cell_type": "code",
   "execution_count": 23,
   "metadata": {
    "collapsed": false
   },
   "outputs": [
    {
     "data": {
      "text/plain": [
       "<All keys matched successfully>"
      ]
     },
     "execution_count": 23,
     "metadata": {},
     "output_type": "execute_result"
    }
   ],
   "source": [
    "model: NeuralNetwork = NeuralNetwork().to(device)\n",
    "model.load_state_dict(torch.load(\"model.pth\"))"
   ]
  },
  {
   "cell_type": "markdown",
   "metadata": {},
   "source": [
    "This model can now be used to make predictions.\n"
   ]
  },
  {
   "cell_type": "code",
   "execution_count": 56,
   "metadata": {
    "collapsed": false
   },
   "outputs": [
    {
     "name": "stdout",
     "output_type": "stream",
     "text": [
      "Index: 23501 \n",
      "\tPredicted: 'Bag' \n",
      "\tActual: 'Bag'\n"
     ]
    }
   ],
   "source": [
    "classes: List[str] = [\n",
    "    \"T-shirt/top\",\n",
    "    \"Trouser\",\n",
    "    \"Pullover\",\n",
    "    \"Dress\",\n",
    "    \"Coat\",\n",
    "    \"Sandal\",\n",
    "    \"Shirt\",\n",
    "    \"Sneaker\",\n",
    "    \"Bag\",\n",
    "    \"Ankle boot\",\n",
    "]\n",
    "\n",
    "model.eval()\n",
    "rand_idx: int = random.randint(0, len(test_data) - 1)\n",
    "x: Tensor = test_data.__getitem__(rand_idx)[0]\n",
    "y: int = test_data.__getitem__(rand_idx)[1]\n",
    "with torch.no_grad():\n",
    "    x = x.to(device)\n",
    "\n",
    "    pred: Tensor = model(x)\n",
    "    predicted = classes[pred[0].argmax(0)]\n",
    "    actual = classes[y]\n",
    "    print(f\"Index: {rand_idx} \\n\\tPredicted: '{predicted}' \\n\\tActual: '{actual}'\")"
   ]
  },
  {
   "cell_type": "markdown",
   "metadata": {},
   "source": [
    "Read more about [Saving & Loading your\n",
    "model](saveloadrun_tutorial.html).\n"
   ]
  }
 ],
 "metadata": {
  "kernelspec": {
   "display_name": "Python 3",
   "language": "python",
   "name": "python3"
  },
  "language_info": {
   "codemirror_mode": {
    "name": "ipython",
    "version": 3
   },
   "file_extension": ".py",
   "mimetype": "text/x-python",
   "name": "python",
   "nbconvert_exporter": "python",
   "pygments_lexer": "ipython3",
   "version": "3.8.18"
  }
 },
 "nbformat": 4,
 "nbformat_minor": 0
}
