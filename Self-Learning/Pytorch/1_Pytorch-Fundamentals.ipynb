{
  "cells": [
    {
      "cell_type": "markdown",
      "source": [
        "# Pytorch Fundamentals"
      ],
      "metadata": {
        "id": "dCIN9wTcNSET"
      }
    },
    {
      "cell_type": "code",
      "execution_count": 1,
      "metadata": {
        "colab": {
          "base_uri": "https://localhost:8080/"
        },
        "id": "ABx2YHYnMy1b",
        "outputId": "cf273311-1ded-4a10-a2b1-b50d28f97ace"
      },
      "outputs": [
        {
          "output_type": "stream",
          "name": "stdout",
          "text": [
            "/bin/bash: line 1: nvidia-smi: command not found\n"
          ]
        }
      ],
      "source": [
        "!nvidia-smi"
      ]
    },
    {
      "cell_type": "code",
      "source": [
        "import matplotlib.pyplot as plt\n",
        "import numpy as np\n",
        "import pandas as pd\n",
        "import torch\n",
        "\n",
        "from IPython.display import display\n",
        "\n",
        "print(torch.__version__)"
      ],
      "metadata": {
        "colab": {
          "base_uri": "https://localhost:8080/"
        },
        "id": "jAiD7gYMNRU4",
        "outputId": "be788d77-d9da-4b87-cb49-2cc92076c583"
      },
      "execution_count": 2,
      "outputs": [
        {
          "output_type": "stream",
          "name": "stdout",
          "text": [
            "2.3.0+cu121\n"
          ]
        }
      ]
    },
    {
      "cell_type": "markdown",
      "source": [
        "## Introduction to Tensor\n",
        "\n",
        "### Creating Tensors"
      ],
      "metadata": {
        "id": "xC1LE4z5OvnE"
      }
    },
    {
      "cell_type": "code",
      "source": [
        "# Scalar\n",
        "scalar: torch.Tensor = torch.tensor(9)\n",
        "print(scalar, scalar.ndim, scalar.item(), sep = \"\\n\")"
      ],
      "metadata": {
        "colab": {
          "base_uri": "https://localhost:8080/"
        },
        "id": "KIGlDtqyOn4B",
        "outputId": "bf483657-f792-456b-81cf-bb48c798b1f5"
      },
      "execution_count": 3,
      "outputs": [
        {
          "output_type": "stream",
          "name": "stdout",
          "text": [
            "tensor(9)\n",
            "0\n",
            "9\n"
          ]
        }
      ]
    },
    {
      "cell_type": "code",
      "source": [
        "# Vector\n",
        "vector: torch.Tensor = torch.Tensor([9, -9])\n",
        "print(vector, vector.ndim, vector.shape, sep = \"\\n\")"
      ],
      "metadata": {
        "colab": {
          "base_uri": "https://localhost:8080/"
        },
        "id": "t7esheVwQnIt",
        "outputId": "4abb74e8-abd9-4930-9ec1-75514e3aa316"
      },
      "execution_count": 4,
      "outputs": [
        {
          "output_type": "stream",
          "name": "stdout",
          "text": [
            "tensor([ 9., -9.])\n",
            "1\n",
            "torch.Size([2])\n"
          ]
        }
      ]
    },
    {
      "cell_type": "code",
      "source": [
        "# MATRIX\n",
        "MATRIX: torch.Tensor = torch.Tensor([[0, 1, 2, 3],\n",
        "                                     [3, 4, 5, 6],\n",
        "                                     [6, 7, 8, 9]])\n",
        "print(MATRIX, MATRIX.ndim, MATRIX.shape, MATRIX[0], sep = \"\\n\")"
      ],
      "metadata": {
        "colab": {
          "base_uri": "https://localhost:8080/"
        },
        "id": "VhdBknr0RUxP",
        "outputId": "7633828e-8a9f-43e7-ae85-2a760763e329"
      },
      "execution_count": 23,
      "outputs": [
        {
          "output_type": "stream",
          "name": "stdout",
          "text": [
            "tensor([[0., 1., 2., 3.],\n",
            "        [3., 4., 5., 6.],\n",
            "        [6., 7., 8., 9.]])\n",
            "2\n",
            "torch.Size([3, 4])\n",
            "tensor([0., 1., 2., 3.])\n"
          ]
        }
      ]
    },
    {
      "cell_type": "code",
      "source": [
        "# TENSOR\n",
        "TENSOR: torch.Tensor = torch.tensor([[[1, 2, 3],\n",
        "                                      [4, 5, 6],\n",
        "                                      [7, 8, 9]]], dtype = torch.complex64)\n",
        "print(TENSOR, TENSOR.ndim, TENSOR.shape, TENSOR[0], TENSOR[0][0], TENSOR[0][0][0], sep = \"\\n\")"
      ],
      "metadata": {
        "colab": {
          "base_uri": "https://localhost:8080/"
        },
        "id": "QpO0E-XLTAJj",
        "outputId": "146ddb35-e749-403d-d041-c53619f420ae"
      },
      "execution_count": 6,
      "outputs": [
        {
          "output_type": "stream",
          "name": "stdout",
          "text": [
            "tensor([[[1.+0.j, 2.+0.j, 3.+0.j],\n",
            "         [4.+0.j, 5.+0.j, 6.+0.j],\n",
            "         [7.+0.j, 8.+0.j, 9.+0.j]]])\n",
            "3\n",
            "torch.Size([1, 3, 3])\n",
            "tensor([[1.+0.j, 2.+0.j, 3.+0.j],\n",
            "        [4.+0.j, 5.+0.j, 6.+0.j],\n",
            "        [7.+0.j, 8.+0.j, 9.+0.j]])\n",
            "tensor([1.+0.j, 2.+0.j, 3.+0.j])\n",
            "tensor(1.+0.j)\n"
          ]
        }
      ]
    },
    {
      "cell_type": "markdown",
      "source": [
        "### Random Tensors"
      ],
      "metadata": {
        "id": "SKBPdhSW5-Pq"
      }
    },
    {
      "cell_type": "code",
      "source": [
        "rand_tensor: torch.Tensor = torch.rand(size = (224, 224, 3)) # height, width, number of color channels\n",
        "print(rand_tensor.ndim, rand_tensor.shape, sep = \"\\n\")"
      ],
      "metadata": {
        "colab": {
          "base_uri": "https://localhost:8080/"
        },
        "id": "Vutub0Gy52_o",
        "outputId": "d9cc7f38-3022-445d-b694-7fd94e6f3614"
      },
      "execution_count": 18,
      "outputs": [
        {
          "output_type": "stream",
          "name": "stdout",
          "text": [
            "3\n",
            "torch.Size([224, 224, 3])\n"
          ]
        }
      ]
    },
    {
      "cell_type": "markdown",
      "source": [
        "### Tensors with all zeros and all ones"
      ],
      "metadata": {
        "id": "W-0s8BO281kc"
      }
    },
    {
      "cell_type": "code",
      "source": [
        "zeros_tensor: torch.Tensor = torch.zeros(3, 4)\n",
        "print(zeros_tensor, zeros_tensor.ndim, zeros_tensor.shape, sep = \"\\n\")\n",
        "\n",
        "ones_tensor: torch.Tensor = torch.ones(3, 4)\n",
        "print(ones_tensor, ones_tensor.ndim, ones_tensor.shape, sep = \"\\n\")\n",
        "print(ones_tensor.dtype)"
      ],
      "metadata": {
        "colab": {
          "base_uri": "https://localhost:8080/"
        },
        "id": "CS5g3R6G8rv2",
        "outputId": "66661755-7576-45bf-8e4c-a9faf4ba7ed4"
      },
      "execution_count": 26,
      "outputs": [
        {
          "output_type": "stream",
          "name": "stdout",
          "text": [
            "tensor([[0., 0., 0., 0.],\n",
            "        [0., 0., 0., 0.],\n",
            "        [0., 0., 0., 0.]])\n",
            "2\n",
            "torch.Size([3, 4])\n",
            "tensor([[1., 1., 1., 1.],\n",
            "        [1., 1., 1., 1.],\n",
            "        [1., 1., 1., 1.]])\n",
            "2\n",
            "torch.Size([3, 4])\n",
            "torch.float32\n"
          ]
        }
      ]
    }
  ],
  "metadata": {
    "kernelspec": {
      "display_name": "Python 3",
      "name": "python3"
    },
    "language_info": {
      "codemirror_mode": {
        "name": "ipython",
        "version": 3
      },
      "file_extension": ".py",
      "mimetype": "text/x-python",
      "name": "python",
      "nbconvert_exporter": "python",
      "pygments_lexer": "ipython3",
      "version": "3.8.18"
    },
    "colab": {
      "provenance": [],
      "gpuType": "T4"
    }
  },
  "nbformat": 4,
  "nbformat_minor": 0
}